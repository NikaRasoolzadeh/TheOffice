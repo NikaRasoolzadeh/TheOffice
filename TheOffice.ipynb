{
 "cells": [
  {
   "cell_type": "markdown",
   "metadata": {},
   "source": [
    "*Author: Nika Rasoolzadeh* - *Contact: nika.rasoolzadeh@gmail.com*\n",
    "\n",
    "*Date: 16.12.2021*"
   ]
  },
  {
   "cell_type": "markdown",
   "metadata": {},
   "source": [
    "# Exploring \"The Office\" TV Show Dataset"
   ]
  },
  {
   "cell_type": "markdown",
   "metadata": {},
   "source": [
    "### Importing the necessary libraries:"
   ]
  },
  {
   "cell_type": "code",
   "execution_count": 1,
   "metadata": {},
   "outputs": [],
   "source": [
    "import pandas as pd\n",
    "import numpy as np\n",
    "import string\n",
    "import json \n",
    "import nltk\n",
    "from collections import Counter\n",
    "import matplotlib.pyplot as plt\n",
    "\n",
    "pd.set_option('mode.chained_assignment', None)"
   ]
  },
  {
   "cell_type": "markdown",
   "metadata": {},
   "source": [
    "### Getting the data"
   ]
  },
  {
   "cell_type": "code",
   "execution_count": 2,
   "metadata": {},
   "outputs": [
    {
     "data": {
      "text/html": [
       "<div>\n",
       "<style scoped>\n",
       "    .dataframe tbody tr th:only-of-type {\n",
       "        vertical-align: middle;\n",
       "    }\n",
       "\n",
       "    .dataframe tbody tr th {\n",
       "        vertical-align: top;\n",
       "    }\n",
       "\n",
       "    .dataframe thead th {\n",
       "        text-align: right;\n",
       "    }\n",
       "</style>\n",
       "<table border=\"1\" class=\"dataframe\">\n",
       "  <thead>\n",
       "    <tr style=\"text-align: right;\">\n",
       "      <th></th>\n",
       "      <th>id</th>\n",
       "      <th>season</th>\n",
       "      <th>episode</th>\n",
       "      <th>scene</th>\n",
       "      <th>line_text</th>\n",
       "      <th>speaker</th>\n",
       "      <th>deleted</th>\n",
       "    </tr>\n",
       "  </thead>\n",
       "  <tbody>\n",
       "    <tr>\n",
       "      <th>0</th>\n",
       "      <td>1</td>\n",
       "      <td>1</td>\n",
       "      <td>1</td>\n",
       "      <td>1</td>\n",
       "      <td>All right Jim. Your quarterlies look very good...</td>\n",
       "      <td>Michael</td>\n",
       "      <td>False</td>\n",
       "    </tr>\n",
       "    <tr>\n",
       "      <th>1</th>\n",
       "      <td>2</td>\n",
       "      <td>1</td>\n",
       "      <td>1</td>\n",
       "      <td>1</td>\n",
       "      <td>Oh, I told you. I couldn't close it. So...</td>\n",
       "      <td>Jim</td>\n",
       "      <td>False</td>\n",
       "    </tr>\n",
       "    <tr>\n",
       "      <th>2</th>\n",
       "      <td>3</td>\n",
       "      <td>1</td>\n",
       "      <td>1</td>\n",
       "      <td>1</td>\n",
       "      <td>So you've come to the master for guidance? Is ...</td>\n",
       "      <td>Michael</td>\n",
       "      <td>False</td>\n",
       "    </tr>\n",
       "    <tr>\n",
       "      <th>3</th>\n",
       "      <td>4</td>\n",
       "      <td>1</td>\n",
       "      <td>1</td>\n",
       "      <td>1</td>\n",
       "      <td>Actually, you called me in here, but yeah.</td>\n",
       "      <td>Jim</td>\n",
       "      <td>False</td>\n",
       "    </tr>\n",
       "    <tr>\n",
       "      <th>4</th>\n",
       "      <td>5</td>\n",
       "      <td>1</td>\n",
       "      <td>1</td>\n",
       "      <td>1</td>\n",
       "      <td>All right. Well, let me show you how it's done.</td>\n",
       "      <td>Michael</td>\n",
       "      <td>False</td>\n",
       "    </tr>\n",
       "  </tbody>\n",
       "</table>\n",
       "</div>"
      ],
      "text/plain": [
       "   id  season  episode  scene  \\\n",
       "0   1       1        1      1   \n",
       "1   2       1        1      1   \n",
       "2   3       1        1      1   \n",
       "3   4       1        1      1   \n",
       "4   5       1        1      1   \n",
       "\n",
       "                                           line_text  speaker  deleted  \n",
       "0  All right Jim. Your quarterlies look very good...  Michael    False  \n",
       "1         Oh, I told you. I couldn't close it. So...      Jim    False  \n",
       "2  So you've come to the master for guidance? Is ...  Michael    False  \n",
       "3         Actually, you called me in here, but yeah.      Jim    False  \n",
       "4    All right. Well, let me show you how it's done.  Michael    False  "
      ]
     },
     "execution_count": 2,
     "metadata": {},
     "output_type": "execute_result"
    }
   ],
   "source": [
    "df = pd.read_csv(\"the_office_lines_scripts.csv\")\n",
    "df.head()"
   ]
  },
  {
   "cell_type": "code",
   "execution_count": 3,
   "metadata": {},
   "outputs": [
    {
     "data": {
      "text/plain": [
       "(59909, 7)"
      ]
     },
     "execution_count": 3,
     "metadata": {},
     "output_type": "execute_result"
    }
   ],
   "source": [
    "df.shape"
   ]
  },
  {
   "cell_type": "markdown",
   "metadata": {},
   "source": [
    "## Data Cleaning\n",
    "Checking if the dataset has any missing or null values, and duplicated rows before starting the analysis."
   ]
  },
  {
   "cell_type": "code",
   "execution_count": 4,
   "metadata": {},
   "outputs": [
    {
     "data": {
      "text/plain": [
       "id           False\n",
       "season       False\n",
       "episode      False\n",
       "scene        False\n",
       "line_text    False\n",
       "speaker      False\n",
       "deleted      False\n",
       "dtype: bool"
      ]
     },
     "execution_count": 4,
     "metadata": {},
     "output_type": "execute_result"
    }
   ],
   "source": [
    "df.isna().any()"
   ]
  },
  {
   "cell_type": "code",
   "execution_count": 5,
   "metadata": {},
   "outputs": [
    {
     "data": {
      "text/plain": [
       "id           False\n",
       "season       False\n",
       "episode      False\n",
       "scene        False\n",
       "line_text    False\n",
       "speaker      False\n",
       "deleted      False\n",
       "dtype: bool"
      ]
     },
     "execution_count": 5,
     "metadata": {},
     "output_type": "execute_result"
    }
   ],
   "source": [
    "# Since Characters such as empty string are not considered NA value find if any exists by:\n",
    "(df.applymap(lambda x: x == '')).any()"
   ]
  },
  {
   "cell_type": "code",
   "execution_count": 6,
   "metadata": {},
   "outputs": [
    {
     "name": "stdout",
     "output_type": "stream",
     "text": [
      "There are 0 duplicated rows in the dataset.\n"
     ]
    }
   ],
   "source": [
    "print(f'There are {df.duplicated().sum()} duplicated rows in the dataset.')"
   ]
  },
  {
   "cell_type": "code",
   "execution_count": 7,
   "metadata": {},
   "outputs": [
    {
     "data": {
      "text/plain": [
       "False    57973\n",
       "True      1936\n",
       "Name: deleted, dtype: int64"
      ]
     },
     "execution_count": 7,
     "metadata": {},
     "output_type": "execute_result"
    }
   ],
   "source": [
    "# Finding the number of deleted scenes\n",
    "df['deleted'].value_counts()"
   ]
  },
  {
   "cell_type": "markdown",
   "metadata": {},
   "source": [
    "There are 1936 deleted scenes in the dataset so it's better to remove them first. By removing them the **id** column data may cause confusion so it's better to be removed as well."
   ]
  },
  {
   "cell_type": "code",
   "execution_count": 8,
   "metadata": {},
   "outputs": [
    {
     "data": {
      "text/html": [
       "<div>\n",
       "<style scoped>\n",
       "    .dataframe tbody tr th:only-of-type {\n",
       "        vertical-align: middle;\n",
       "    }\n",
       "\n",
       "    .dataframe tbody tr th {\n",
       "        vertical-align: top;\n",
       "    }\n",
       "\n",
       "    .dataframe thead th {\n",
       "        text-align: right;\n",
       "    }\n",
       "</style>\n",
       "<table border=\"1\" class=\"dataframe\">\n",
       "  <thead>\n",
       "    <tr style=\"text-align: right;\">\n",
       "      <th></th>\n",
       "      <th>season</th>\n",
       "      <th>episode</th>\n",
       "      <th>scene</th>\n",
       "      <th>line_text</th>\n",
       "      <th>speaker</th>\n",
       "    </tr>\n",
       "  </thead>\n",
       "  <tbody>\n",
       "    <tr>\n",
       "      <th>0</th>\n",
       "      <td>1</td>\n",
       "      <td>1</td>\n",
       "      <td>1</td>\n",
       "      <td>All right Jim. Your quarterlies look very good...</td>\n",
       "      <td>Michael</td>\n",
       "    </tr>\n",
       "    <tr>\n",
       "      <th>1</th>\n",
       "      <td>1</td>\n",
       "      <td>1</td>\n",
       "      <td>1</td>\n",
       "      <td>Oh, I told you. I couldn't close it. So...</td>\n",
       "      <td>Jim</td>\n",
       "    </tr>\n",
       "    <tr>\n",
       "      <th>2</th>\n",
       "      <td>1</td>\n",
       "      <td>1</td>\n",
       "      <td>1</td>\n",
       "      <td>So you've come to the master for guidance? Is ...</td>\n",
       "      <td>Michael</td>\n",
       "    </tr>\n",
       "    <tr>\n",
       "      <th>3</th>\n",
       "      <td>1</td>\n",
       "      <td>1</td>\n",
       "      <td>1</td>\n",
       "      <td>Actually, you called me in here, but yeah.</td>\n",
       "      <td>Jim</td>\n",
       "    </tr>\n",
       "    <tr>\n",
       "      <th>4</th>\n",
       "      <td>1</td>\n",
       "      <td>1</td>\n",
       "      <td>1</td>\n",
       "      <td>All right. Well, let me show you how it's done.</td>\n",
       "      <td>Michael</td>\n",
       "    </tr>\n",
       "  </tbody>\n",
       "</table>\n",
       "</div>"
      ],
      "text/plain": [
       "   season  episode  scene                                          line_text  \\\n",
       "0       1        1      1  All right Jim. Your quarterlies look very good...   \n",
       "1       1        1      1         Oh, I told you. I couldn't close it. So...   \n",
       "2       1        1      1  So you've come to the master for guidance? Is ...   \n",
       "3       1        1      1         Actually, you called me in here, but yeah.   \n",
       "4       1        1      1    All right. Well, let me show you how it's done.   \n",
       "\n",
       "   speaker  \n",
       "0  Michael  \n",
       "1      Jim  \n",
       "2  Michael  \n",
       "3      Jim  \n",
       "4  Michael  "
      ]
     },
     "execution_count": 8,
     "metadata": {},
     "output_type": "execute_result"
    }
   ],
   "source": [
    "dscenes = (df['deleted'] == True)\n",
    "df.drop(index=df[dscenes].index, inplace=True) # Dropping the deleted scene rows\n",
    "df.drop(['id', 'deleted'], axis=1, inplace=True) # Dropping id and deleted colmns\n",
    "df.head()"
   ]
  },
  {
   "cell_type": "code",
   "execution_count": 9,
   "metadata": {},
   "outputs": [
    {
     "data": {
      "text/plain": [
       "(57973, 5)"
      ]
     },
     "execution_count": 9,
     "metadata": {},
     "output_type": "execute_result"
    }
   ],
   "source": [
    "df.shape"
   ]
  },
  {
   "cell_type": "markdown",
   "metadata": {},
   "source": [
    "The new dataframe has 57973 rows and 5 columns."
   ]
  },
  {
   "cell_type": "code",
   "execution_count": 10,
   "metadata": {},
   "outputs": [
    {
     "data": {
      "text/plain": [
       "786"
      ]
     },
     "execution_count": 10,
     "metadata": {},
     "output_type": "execute_result"
    }
   ],
   "source": [
    "speakers = df['speaker'].unique()\n",
    "speakers.size"
   ]
  },
  {
   "cell_type": "markdown",
   "metadata": {},
   "source": [
    "There are **786** speakers in the aired scenes according to the dataset and their names are listed below. However, some of the character names are mentioned multiple times in formats like *Andy & Kerin*, there are also some misspellings like *Angelea*, *Angel*, *Angels*, and there are mutiple speakers like *All Girls*, *All the Men*. So to find the accurate character number first the speaker column should be filtered."
   ]
  },
  {
   "cell_type": "code",
   "execution_count": 11,
   "metadata": {},
   "outputs": [
    {
     "name": "stdout",
     "output_type": "stream",
     "text": [
      "[\"(Pam's mom) Heleen\", '3rd Athlead Employee', '4th Athlead Employee', 'A.J.', 'AJ', 'Aaron Rodgers', 'Abby', 'Actor', 'Actress', 'Ad guy 1', 'Ad guy 2', 'Air Force recruiter', 'Alan', 'Albiny', 'Alex', 'Alice', 'All', 'All Girls', 'All but Oscar', 'All the Men', 'Alonzo', 'Amanda', 'Amy', 'Andy', 'Andy & Erin', 'Andy & Michael', 'Andy & Walter', 'Andy and Darryl', 'Andy and Dwight', 'Andy and Erin']\n"
     ]
    }
   ],
   "source": [
    "print(sorted(speakers)[:30])"
   ]
  },
  {
   "cell_type": "markdown",
   "metadata": {},
   "source": [
    "#### Correcting the misspellings in the Speaker Column:"
   ]
  },
  {
   "cell_type": "code",
   "execution_count": 12,
   "metadata": {},
   "outputs": [],
   "source": [
    "df['speaker'].replace(['abe'],\"Gabe\",inplace=True)\n",
    "df['speaker'].replace(['Angel','Angels','Anglea'], \"Angela\", inplace=True)\n",
    "df['speaker'].replace(['AJ'], \"A.J.\", inplace=True)\n",
    "df['speaker'].replace(['Barbara'], \"Barbara Allen\", inplace=True)\n",
    "df['speaker'].replace(['Ben'], \"Ben Franklin\", inplace=True)\n",
    "df['speaker'].replace(['Billy'], \"Billy Merchant\", inplace=True)\n",
    "df['speaker'].replace(['Bob', 'Bob Vance, Vance Refrigeration'], \"Bob Vance\", inplace=True)\n",
    "df['speaker'].replace(['CPR trainer'] , \"CPR Trainer\",inplace=True)\n",
    "df['speaker'].replace(['CameraMan'], \"Cameraman\", inplace=True)\n",
    "df['speaker'].replace(['Carol', 'Carrol', 'Carroll'] , \"Carol Stills\",inplace=True)\n",
    "df['speaker'].replace(['Casey'] , \"Casey Dean\",inplace=True)\n",
    "df['speaker'].replace(['Chares','Charles'], \"Charles Miner\", inplace=True)\n",
    "df['speaker'].replace(['Co-worker #2'], \"Co-worker-2\", inplace=True)\n",
    "df['speaker'].replace(['Concierge'] ,\"Concierge Marie\",inplace=True)\n",
    "df['speaker'].replace(['Dacvid Walalce', 'Dacvid Wallace','David','David Wallcve'],\"David Wallace\",inplace=True)\n",
    "df['speaker'].replace(['Dan'] ,\"Dan Gore\",inplace=True)\n",
    "df['speaker'].replace(['Darrly', 'Darry', 'Daryl'], \"Darryl\", inplace=True)\n",
    "df['speaker'].replace(['DeAngelo', 'DeAgnelo', 'Deangelo','Denagelo'],\"Deangelo Vickers\",inplace=True)\n",
    "df['speaker'].replace(['DeliveryMan', 'Delivery man'] ,\"Deliveryman\",inplace=True)\n",
    "df['speaker'].replace(['Denise'] ,\"Dennis\",inplace=True)\n",
    "df['speaker'].replace(['Diane'] ,\"Diane Kelly\",inplace=True)\n",
    "df['speaker'].replace(['D','Dwight ','Dight','Dwight [on phone]', 'Dwight.', 'Dwight:','DwightKSchrute'],\"Dwight\",inplace=True)\n",
    "df['speaker'].replace(['Doug [church member]'] ,\"Doug\",inplace=True)\n",
    "df['speaker'].replace(['DunMiff/sys'] ,\"DunMiffsys\",inplace=True)\n",
    "df['speaker'].replace([\"Erin's Cell Phone\",'Erin'] ,\"Erin Hannon\",inplace=True)\n",
    "df['speaker'].replace(['Female church member [to Michael]'] , \"Female church member\", inplace=True)\n",
    "df['speaker'].replace(['Female intern'] ,\"Female Intern\",inplace=True)\n",
    "df['speaker'].replace(['Fred'] ,\"Fred Henry\",inplace=True)\n",
    "df['speaker'].replace(['Glen'] ,\"Glenn\",inplace=True)\n",
    "df['speaker'].replace(['Group: Dunder Mifflin!\\nAndy: Andy Bernard presents: Summer Softball Epic Fails! [Kevin swings bat on screen, fart noise follows] Fail. [repeats] Fail',\"[Clark and Pete are shown on screen]\\nVideo Andy: Hey, I'm Pete, puberty is such a drag, man. And I'm Clark! I like to eat toilet paper. [Clark and Pete wave at camera] We fail! [Video shows memorial of Jerry\", '[repeats]\\nAndy: Fail'] ,\"Andy\",inplace=True)\n",
    "df['speaker'].replace(['Guy at bar'] ,\"Guy At Bar\",inplace=True)\n",
    "df['speaker'].replace(['Gym instructor'] ,\"Gym Instructor\",inplace=True)\n",
    "df['speaker'].replace(['Hank','Hank [the security guard]', 'Hank the Security Guard'], \"Hank Doyle\", inplace=True)\n",
    "df['speaker'].replace([\"(Pam's mom) Heleen\",\"Pam's Mom\",'Helen',\"Pam's mom\"], \"Helene\", inplace=True)\n",
    "df['speaker'].replace(['Holy'], \"Holly\", inplace=True)\n",
    "df['speaker'].replace(['Isabelle'], \"Isabel\", inplace=True)\n",
    "df['speaker'].replace(['JIM9334'] ,\"JIM9334 [screen name]\",inplace=True)\n",
    "df['speaker'].replace(['JIm',\"Jim's voicemail\"], \"Jim\", inplace=True)\n",
    "df['speaker'].replace(['Jakey'], \"Jake\", inplace=True)\n",
    "df['speaker'].replace(['Jan [on phone]'], \"Jan\", inplace=True)\n",
    "df['speaker'].replace(['Jo'], \"Jo Bennett\", inplace=True)\n",
    "df['speaker'].replace(['Julius'], \"Julius Irving\", inplace=True)\n",
    "df['speaker'].replace(['Justin'], \"Justine\", inplace=True)\n",
    "df['speaker'].replace(['Kathy'], \"Cathy\", inplace=True)\n",
    "df['speaker'].replace(['Larry Myers'], \"Larry\", inplace=True)\n",
    "df['speaker'].replace(['Lonnie'], \"Lonny\", inplace=True)\n",
    "df['speaker'].replace(['Man on phone'], \"Man on Phone\", inplace=True)\n",
    "df['speaker'].replace(['Mee-Maw','Mema'],\"MeeMaw\",inplace=True)\n",
    "df['speaker'].replace(['Meridith'],\"Meredith\",inplace=True)\n",
    "df['speaker'].replace(['Merv'], \"Merv Bronte\", inplace=True)\n",
    "df['speaker'].replace(['M ichael', 'MIchael','Micael', 'Micahel', 'Michae', 'Michael ', 'Michael [on phone]', 'Michal', 'Micheal', 'Michel', 'Mihael', 'Miichael','Video Michael'],\"Michael\",inplace=True)\n",
    "df['speaker'].replace(['Cousin Mose','Mose [on phone]'], \"Mose\", inplace=True)\n",
    "df['speaker'].replace(['Mr. Kapoor'], \"Kelly's Father\", inplace=True)\n",
    "df['speaker'].replace(['Mrs. Kapoor'], \"Kelly's Mom\", inplace=True)\n",
    "df['speaker'].replace(['Nellie'], \"Nellie Bertram\", inplace=True)\n",
    "df['speaker'].replace(['Old lady'], \"Old Lady\", inplace=True)\n",
    "df['speaker'].replace([\"Oscar's Computer\",\"Oscar's voice from the computer\"], \"Oscar\", inplace=True)\n",
    "df['speaker'].replace(['Todd','Packer','Sweeney Todd'],\"Todd Packer\",inplace=True)\n",
    "df['speaker'].replace(['Pam ', 'Pam [on phone]', 'Pam as fourth-biggest client', 'Pam as ninth-biggest client'],\"Pam\",inplace=True)\n",
    "df['speaker'].replace(['Paul'],\"Paul Faust\",inplace=True)\n",
    "df['speaker'].replace(['Phil'],\"Phil Maguire\",inplace=True)\n",
    "df['speaker'].replace(['Phylis', 'Phyliss'], \"Phyllis\",inplace=True)\n",
    "df['speaker'].replace(['Promo Voice'], \"Promo Announcer\",inplace=True)\n",
    "df['speaker'].replace(['Receptionitis15'], \"Receptionitis15 [screen name]\", inplace=True)\n",
    "df['speaker'].replace(['Robert'],\"Robert California\",inplace=True)\n",
    "df['speaker'].replace(['Rolph'],\"Rolf\" ,inplace=True)\n",
    "df['speaker'].replace(['Ryan',\"Ryan's Voicemail\"],\"Ryan Howard\",inplace=True)\n",
    "df['speaker'].replace(['Ira','Sensei'],\"Sensei Ira\" ,inplace=True)\n",
    "df['speaker'].replace(['Senator', 'Senator Liptop'],\"Senator Lipton\",inplace=True) \n",
    "df['speaker'].replace(['Stanely'], \"Stanley\",inplace=True)\n",
    "df['speaker'].replace(['Tom'],\"Tom Halpert\",inplace=True) \n",
    "df['speaker'].replace(['Teddy'],\"Teddy Wallace\",inplace=True) \n",
    "df['speaker'].replace(['Vance Refrigeration guy'],\"Vance Refrigeration Guy\",inplace=True) \n",
    "df['speaker'].replace(['Walter Jr'],\"Walter Jr.\",inplace=True)\n",
    "df['speaker'].replace(['Warehouse worker'],\"Warehouse Worker\",inplace=True)\n",
    "df['speaker'].replace(['Warren'],\"Warren Buffet\",inplace=True) \n",
    "df['speaker'].replace([\"[Clark and Pete are shown on screen]\\nVideo Andy: Hey, I'm Pete, puberty is such a drag, man. And I'm Clark! I like to eat toilet paper. [Clark and Pete wave at camera] We fail! [Video shows memorial of Jerry\"\n",
    "],\"Video\",inplace=True)\n",
    "df['speaker'].replace([\"[repeats]\\nAndy: Fail\",'sAndy'],\"Andy\",inplace=True)\n",
    "df['speaker'].replace(['song'],\"Song\",inplace=True)"
   ]
  },
  {
   "cell_type": "markdown",
   "metadata": {},
   "source": [
    "To find the rows with multiple speakers the column can be searched for the word *and* in the speaker name strings. There are 77 of such instance."
   ]
  },
  {
   "cell_type": "code",
   "execution_count": 13,
   "metadata": {},
   "outputs": [],
   "source": [
    "and_cases = df['speaker'].str.contains(\"and \", na=False, case=True)\n",
    "filtered_df = df[~and_cases]"
   ]
  },
  {
   "cell_type": "markdown",
   "metadata": {},
   "source": [
    "There are also speaker names with **&** inside. So they need to be filtered as well."
   ]
  },
  {
   "cell_type": "code",
   "execution_count": 15,
   "metadata": {},
   "outputs": [],
   "source": [
    "cap_and = filtered_df['speaker'].str.contains(\"& \", na=False, case=True)\n",
    "filtered_df = filtered_df[~cap_and]"
   ]
  },
  {
   "cell_type": "markdown",
   "metadata": {},
   "source": [
    "And there are 9 instances of speaker names combined with a slash. Those need to be dropped too."
   ]
  },
  {
   "cell_type": "code",
   "execution_count": 16,
   "metadata": {},
   "outputs": [
    {
     "data": {
      "text/plain": [
       "589"
      ]
     },
     "execution_count": 16,
     "metadata": {},
     "output_type": "execute_result"
    }
   ],
   "source": [
    "# Filtering out the speaker names with /\n",
    "slash_cases = filtered_df['speaker'].str.contains(\"/\", na=False)\n",
    "filtered_df = filtered_df[~slash_cases]\n",
    "filtered_df['speaker'].nunique()"
   ]
  },
  {
   "cell_type": "markdown",
   "metadata": {},
   "source": [
    "After filtering the names the number of characters are reduced from **786** to **589** including the group speakers like *All*, *Workers*, etc. Their names are listed below."
   ]
  },
  {
   "cell_type": "code",
   "execution_count": 17,
   "metadata": {},
   "outputs": [
    {
     "name": "stdout",
     "output_type": "stream",
     "text": [
      "['3rd Athlead Employee', '4th Athlead Employee', 'A.J.', 'Aaron Rodgers', 'Abby', 'Actor', 'Actress', 'Ad guy 1', 'Ad guy 2', 'Air Force recruiter', 'Alan', 'Albiny', 'Alex', 'Alice', 'All', 'All Girls', 'All but Oscar', 'All the Men', 'Alonzo', 'Amanda', 'Amy', 'Andy', 'Andy, Creed, Kevin, Kelly', 'Andy, Creed, Kevin, Kelly, Darryl', 'Angela', 'Announcer', 'Another guy', 'Archivist', 'Artist', 'Astrid', 'Athlead Coworker', 'Athlead Employee', 'Attendant', 'Audience', 'Aunt Shirley', 'Automated phone voice', 'Ballerinas', 'Bar Manager', 'Barbara Allen', 'Bartender', 'Bass Player', 'Ben Franklin', 'Bert', 'Beth', 'Bill', 'Bill Cress', 'Bill Hader', 'Billy Merchant', \"Billy's Girlfriend\", 'Blogger', 'Blogger 2', 'Blonde', 'Blood Drive Worker', 'Blood Girl', 'Boat Guy', 'Bob Vance', \"Bob's Secretary\", 'Bookstore employee', 'Boom Box', 'Both', 'Bouncer', 'Brad', 'Brandon', 'Brenda', 'Brian', 'Broccoli Rob', 'Bruce', 'Bus driver', 'Business Student #1', 'Business Student #2', 'Business Student #3', 'Business partner', 'Businessman #1', 'Businessman #2', 'Businessman #3', 'Buyer', 'CPR Trainer', 'Calvin', 'Camera Crew', 'Cameraman', 'Cameron', 'Captain Jack', 'Carla', 'Carla Fern', 'Carol Stills', 'Casey Dean', 'Cathy', 'Cece', 'Cell Phone Sales Person', 'Chad Lite', 'Charles Miner', 'Check-in guy', 'Chef', 'Chelsea', 'Chet', 'Child', 'Children', \"Chili's Employee\", 'Christian', 'Christian Slater', 'Church congregation', 'Cindy', 'Clark', 'Clay Aiken', 'Cleaning lady', 'Client', 'Co-Worker 1', 'Co-Worker 2', 'Co-Worker 3', 'Co-worker', 'Co-worker-2', 'Co-workers', 'Coffee shop worker', 'Colin', 'College Student', 'Computron', 'Concierge Marie', 'Cookie Monster', 'Council', 'Craig', 'Credit card rep', 'Creed', 'Crowd', 'Curtis', 'Customer', 'DJ', 'Dakota', 'Dale', 'Dan Gore', 'Dana', 'Dance Teacher', 'Danny', 'Darryl', \"Darryl's sister\", 'David Brent', 'David Wallace', \"David Wallace's Secretary\", 'Dealer', 'Deangelo Vickers', 'Delivery Boy', 'Delivery Woman', 'Deliveryman', 'Dennis', 'Deposition Reporter', 'Devon', 'Diane Kelly', 'Director', 'Doctor', 'Donna', 'Donna Muraski', 'Doug', 'Drive Thru Customer', 'Drummer', 'DunMiffsys', 'Dwight', 'Ed', 'Edward R. Meow', 'Einsteins', 'Elderly Woman', 'Elizabeth', 'Ellen', 'Emergency Operator', 'Employee', 'Employees', 'Employees except Dwight', 'Entire Prince family', 'Entire office', 'Eric', 'Erin Hannon', 'Ernesto', 'Esther', 'Evan', 'Everybody', 'Everyone', 'Everyone watching', 'Ex-client', 'Fake Jim', 'Fake Stanley', 'Fannie', 'Fast Food Worker', 'Female Applicant', 'Female Athlead Employee', 'Female Intern', 'Female Shareholder', 'Female church member', 'Female worker', 'Financial Guy', 'Finger Lakes Guy', 'Fourth Shareholder', 'Frank', 'Fred Henry', 'Friend', 'Front Desk Clerk', 'GPS', 'Gabe', 'Gabor', 'German Minister', 'Gideon', 'Gil', 'Girl', 'Girl acting Pregnant', 'Girl at table', 'Girl in 2nd club', 'Girl in Club', 'Girls', 'Glenn', 'Graphics guy', 'Grotti', 'Group', 'Group chant', 'Guy', 'Guy At Bar', 'Guy at table', 'Guy buying doll', 'Guy in audience', 'Guys in breakroom', 'Gwenneth', 'Gym Instructor', 'HCT', 'HCT Member #1', 'HCT Member #2', 'HCT Member #3', 'Hank Doyle', 'Hannah', 'Harry', 'Harvey', \"Hayworth's waiter\", 'Helene', 'Henry', 'Hide', 'Holly', \"Holly's Dad\", \"Holly's Mom\", \"Hooter's Girls\", 'Hospital employee', 'Host', 'Hostess', 'Hot Dog Guy', 'Hotel Employee', 'Hotel Manager', 'Hunter', \"Hunter's CD\", 'I.D. Photographer', 'IT Tech Guy', 'Improv Teacher', 'Intern', 'Investor', 'Irene', 'Isaac', 'Isabel', 'JIM9334 [screen name]', 'Jada', 'Jake', 'Jamie', 'Jan', 'Jeb', 'Jerome Bettis', 'Jerry', 'Jessica', 'Jessica Alba', 'Jim', \"Jim's Dad\", 'Jo Bennett', 'Joan', 'Jordan', 'Josh', 'Julia', 'Julie', 'Julius Irving', 'Justine', 'Karen', 'Katy', 'Keena Gifford', 'Kelly', \"Kelly's Father\", \"Kelly's Mom\", 'Kendall', 'Kenny', 'Kevin', \"Kevin's computer\", 'Kid', 'Kids', 'Lab Tech', 'Lady', 'Lady Blogger', 'Larry', 'Lauren', 'Laurie', 'Lawyer', 'Lefevre', 'Leo', 'Lester', 'Lily', 'Limo Driver', 'Linda', 'Liquor Store Clerk', 'Little Girl', 'Lonny', 'Luke', 'Lynn', 'Madge', 'Magician', 'Maguire', 'Malcolm', 'Male Applicant 1', 'Male Applicant 2', 'Male church member', 'Male voice', 'Man', 'Man 1', 'Man 2', 'Man 3', 'Man from Buffalo', 'Man in Video', 'Man in line', 'Man on Phone', 'Manager', 'Marcy', 'Margaret', 'Marie', 'Mark', 'Mark McGrath', 'Martin', 'Mary-Beth', 'Master', 'Matt', 'Maurie', 'MeeMaw', 'Megan', 'Melissa', 'Melvina', 'Member', 'Men', 'Meredith', 'Merv Bronte', 'Mexican Man', 'Michael', \"Michael's Ad\", 'Mikela', 'Minister', 'Miss Trudy', 'Moderator', 'Molly', 'Mose', 'Mother', 'Mr. Beesly', 'Mr. Brown', 'Mr. Figaro', 'Mr. Halpert', \"Mr. O'Malley\", 'Mr. Ramish', 'Mr. Romanko', 'Mr. Ruger', 'Mr. Schofield', 'Mrs. California', 'Mrs. Davis', 'Mrs. Wallace', 'Nail manager', 'Nail stylist 1', 'Nail stylist 2', 'Nana', 'Narrator', 'Nate', 'Neighbor', 'Nellie Bertram', 'New Instant Message', 'Nick', 'Night cleaning crew', 'Nurse', \"O'Keefe\", 'Off-camera', 'Office', 'Office Staff', 'Officer', 'Officer 1', 'Officer 2', 'Officer Foley', 'Offscreen', 'Old Lady', 'Old Man', 'Old Woman', 'Older Woman', 'Older guy', 'Oscar', \"Oscar's friend\", 'Other Guy at Bar', 'Other waitress', 'Others', 'Overhead', 'Pam', \"Pam's dad\", 'Paramedic', 'Parent in Audience', 'Parent in audience #1', 'Parent in audience #2', 'Paris', 'Park Ranger', 'Party Announcer', 'Party Guest', 'Party Photographer', 'Party Waiter', 'Party guests', 'Passer-by', 'Pastor', 'Patty', 'Paul Faust', 'Pediatrician', 'Penny', 'People in line', 'Pete', 'Pete Halpert', 'Phil Maguire', 'Philip', 'Phillip', 'Phone', 'Phone Salesman', 'Photographer', 'Phyllis', 'Phyllis, Meredith, Michael, Kevin', 'Phyllis, Stanley, Dwight', 'Pizza guy', 'Police Officer 1', 'Police Officer 2', 'Policeman', 'Pretzel guy', 'Priest', 'Prince', 'Prince Granddaughter', 'Prince Grandfather', 'Prince Grandmother', 'Prince Son', 'Producer', 'Production Assistant', 'Professor', 'Professor Powell', 'Promo Announcer', 'Queerenstein Bears', 'Rachel', 'Radio', 'Rafe', 'Randy', 'Ravi', 'Realtor', 'Receptionist', 'Receptionitis15 [screen name]', 'Redheaded Actress', 'Registrar', 'Rehab Nurse', 'Reid', 'Rep', 'Reporter', 'Reporter #1', 'Reporter #2', 'Robert California', 'Robert Dunder', 'Robotic Voice', 'Roger', 'Rolando', 'Rolf', 'Ronnie', 'Rory', 'Rose', 'Roy', 'Ruger Sister 1', 'Ruger Sister 2', 'Ryan Howard', 'Sadiq (IT guy)', 'Salesman', 'Salesmen', 'Saleswoman', 'Sam', 'Santigold', 'Sasha', 'School Official', 'Second Cindy', 'Second Shareholder', 'Secretary', 'Security', 'Security guard', 'Senator Lipton', 'Sensei Ira', 'Server', 'Seth Mayers', 'Shane', 'Shareholder', 'Shelby', 'Sherri', 'Shirley', 'Soldier', 'Someone', 'Son', 'Song', 'Spanish Teacher', 'Speaker', 'Stanley', 'Staples Guy', 'Stephanie', 'Steve', 'Stewardess', 'Stonewall Host', 'Store Employee', 'Stripper', 'Stu', 'Student 1', 'Student 2', 'Student 3', 'Students', 'Suit Store Father', 'Suit Store Son', 'Supervisor', 'Susan', 'TV', 'Tall Girl #1', 'Tall Girl #2', 'Tattoo Artist', 'Teacher', 'Teammates', 'Tech Guy', 'Ted', 'Teddy Wallace', 'The Kids', 'Third Shareholder', 'Toby', 'Todd Packer', 'Together', 'Tom Halpert', 'Tony', 'Travel Agent', 'Trevor', 'Troy', 'Ty', 'Uncle Al', 'Unknown', 'Usher', 'VRG 1', 'VRG 2', 'Val', 'Vance Refrigeration Guy', 'Vance Refrigeration Guy 1', 'Vance Refrigeration Guy 2', 'Various', 'Vet', 'Video', 'Vikram', 'Voice #1 on phone', 'Voice #2 on phone', 'Voice of Thomas Dean', 'Voice on CD player', 'Voicemail', 'W.B. Jones', 'Wade', 'Waiter', 'Waitress', 'Wally Amos', 'Walt Jr.', 'Walter', 'Walter Jr.', 'Warehouse Crew', 'Warehouse Guy', 'Warehouse Michael', 'Warehouse Worker', 'Warehouse guy', 'Warehouse guy 1', 'Warehouse guy 2', 'Warehouse guys', 'Warren Buffet', 'Warren Buffett', \"Wendy's phone operator\", 'White', 'Window treatment guy', 'Wolf', 'Woman', 'Woman 1', 'Woman 2', 'Woman 3', 'Woman 4', 'Woman at bar', 'Woman from Buffalo', 'Woman in line', 'Woman on mic', 'Woman over speakerphone', 'Women', 'Worker', 'Wrangler', 'Young Man', 'Young Michael', 'Younger Guy', 'Zeke', 'Zion']\n"
     ]
    }
   ],
   "source": [
    "filt_sp = filtered_df['speaker'].unique()\n",
    "print(sorted(filt_sp))"
   ]
  },
  {
   "cell_type": "markdown",
   "metadata": {},
   "source": [
    "#### Character with the Most Lines:\n",
    "The character with the most lines is **Michael** followed by **Dwight**, **Jim**, **Pam**, and **Andy**."
   ]
  },
  {
   "cell_type": "code",
   "execution_count": 18,
   "metadata": {},
   "outputs": [
    {
     "data": {
      "text/plain": [
       "Michael    11612\n",
       "Dwight      7177\n",
       "Jim         6613\n",
       "Pam         5215\n",
       "Andy        3972\n",
       "Name: speaker, dtype: int64"
      ]
     },
     "execution_count": 18,
     "metadata": {},
     "output_type": "execute_result"
    }
   ],
   "source": [
    "totline = filtered_df['speaker'].value_counts()\n",
    "totline.head(5)"
   ]
  },
  {
   "cell_type": "markdown",
   "metadata": {},
   "source": [
    "## Natural Language Processing\n",
    "First the punctuations then the stopwords are removed and a tokenized column of the lines spoken is created."
   ]
  },
  {
   "cell_type": "code",
   "execution_count": 19,
   "metadata": {},
   "outputs": [
    {
     "data": {
      "text/plain": [
       "0    All right Jim Your quarterlies look very good ...\n",
       "1                  Oh I told you I couldnt close it So\n",
       "2    So youve come to the master for guidance Is th...\n",
       "3              Actually you called me in here but yeah\n",
       "4          All right Well let me show you how its done\n",
       "Name: line_text, dtype: object"
      ]
     },
     "execution_count": 19,
     "metadata": {},
     "output_type": "execute_result"
    }
   ],
   "source": [
    "# Removing Punctutaion\n",
    "def remove_punctuation(line_text):\n",
    "    no_punct=\"\".join([words for words in line_text if words not in string.punctuation])\n",
    "    return no_punct\n",
    "    \n",
    "filtered_df['line_text'] = filtered_df['line_text'].apply(lambda x: remove_punctuation(x))\n",
    "filtered_df['line_text'].head()"
   ]
  },
  {
   "cell_type": "markdown",
   "metadata": {},
   "source": [
    "After examining the lines a certain symbol is observed in the lines that should also be removed."
   ]
  },
  {
   "cell_type": "code",
   "execution_count": 20,
   "metadata": {},
   "outputs": [
    {
     "name": "stdout",
     "output_type": "stream",
     "text": [
      "Does the symbol exist?: False\n"
     ]
    }
   ],
   "source": [
    "# Replace the symbol with space\n",
    "filtered_df['line_text'] = filtered_df['line_text'].str.replace('���', \" \")\n",
    "print('Does the symbol exist?:','���' in filtered_df['line_text'])"
   ]
  },
  {
   "cell_type": "code",
   "execution_count": 21,
   "metadata": {},
   "outputs": [
    {
     "data": {
      "text/html": [
       "<div>\n",
       "<style scoped>\n",
       "    .dataframe tbody tr th:only-of-type {\n",
       "        vertical-align: middle;\n",
       "    }\n",
       "\n",
       "    .dataframe tbody tr th {\n",
       "        vertical-align: top;\n",
       "    }\n",
       "\n",
       "    .dataframe thead th {\n",
       "        text-align: right;\n",
       "    }\n",
       "</style>\n",
       "<table border=\"1\" class=\"dataframe\">\n",
       "  <thead>\n",
       "    <tr style=\"text-align: right;\">\n",
       "      <th></th>\n",
       "      <th>season</th>\n",
       "      <th>episode</th>\n",
       "      <th>scene</th>\n",
       "      <th>line_text</th>\n",
       "      <th>speaker</th>\n",
       "      <th>token</th>\n",
       "      <th>word_num</th>\n",
       "    </tr>\n",
       "  </thead>\n",
       "  <tbody>\n",
       "    <tr>\n",
       "      <th>0</th>\n",
       "      <td>1</td>\n",
       "      <td>1</td>\n",
       "      <td>1</td>\n",
       "      <td>All right Jim Your quarterlies look very good ...</td>\n",
       "      <td>Michael</td>\n",
       "      <td>[Jim, quarterlies, good, things, library]</td>\n",
       "      <td>5</td>\n",
       "    </tr>\n",
       "    <tr>\n",
       "      <th>1</th>\n",
       "      <td>1</td>\n",
       "      <td>1</td>\n",
       "      <td>1</td>\n",
       "      <td>Oh I told you I couldnt close it So</td>\n",
       "      <td>Jim</td>\n",
       "      <td>[told, close]</td>\n",
       "      <td>2</td>\n",
       "    </tr>\n",
       "    <tr>\n",
       "      <th>2</th>\n",
       "      <td>1</td>\n",
       "      <td>1</td>\n",
       "      <td>1</td>\n",
       "      <td>So youve come to the master for guidance Is th...</td>\n",
       "      <td>Michael</td>\n",
       "      <td>[youve, master, guidance, grasshopper]</td>\n",
       "      <td>4</td>\n",
       "    </tr>\n",
       "    <tr>\n",
       "      <th>3</th>\n",
       "      <td>1</td>\n",
       "      <td>1</td>\n",
       "      <td>1</td>\n",
       "      <td>Actually you called me in here but yeah</td>\n",
       "      <td>Jim</td>\n",
       "      <td>[called, yeah]</td>\n",
       "      <td>2</td>\n",
       "    </tr>\n",
       "    <tr>\n",
       "      <th>4</th>\n",
       "      <td>1</td>\n",
       "      <td>1</td>\n",
       "      <td>1</td>\n",
       "      <td>All right Well let me show you how its done</td>\n",
       "      <td>Michael</td>\n",
       "      <td>[]</td>\n",
       "      <td>0</td>\n",
       "    </tr>\n",
       "  </tbody>\n",
       "</table>\n",
       "</div>"
      ],
      "text/plain": [
       "   season  episode  scene                                          line_text  \\\n",
       "0       1        1      1  All right Jim Your quarterlies look very good ...   \n",
       "1       1        1      1                Oh I told you I couldnt close it So   \n",
       "2       1        1      1  So youve come to the master for guidance Is th...   \n",
       "3       1        1      1            Actually you called me in here but yeah   \n",
       "4       1        1      1        All right Well let me show you how its done   \n",
       "\n",
       "   speaker                                      token  word_num  \n",
       "0  Michael  [Jim, quarterlies, good, things, library]         5  \n",
       "1      Jim                              [told, close]         2  \n",
       "2  Michael     [youve, master, guidance, grasshopper]         4  \n",
       "3      Jim                             [called, yeah]         2  \n",
       "4  Michael                                         []         0  "
      ]
     },
     "execution_count": 21,
     "metadata": {},
     "output_type": "execute_result"
    }
   ],
   "source": [
    "def remove_stopwprds(line_text):\n",
    "    # Returns the tokenized list of the text line inputted\n",
    "    filtered_sentence = [word for word in line_text.split() if word.lower() not in stop_words]\n",
    "    return filtered_sentence\n",
    "\n",
    "# Reading from the stopjson file\n",
    "with open('stopwords.json', 'r') as openfile:\n",
    "    stop_words = json.load(openfile)\n",
    "\n",
    "filtered_df['token'] = filtered_df['line_text'].apply(lambda x: remove_stopwprds(x)) # remove the stopwords  \n",
    "filtered_df['word_num'] = filtered_df['token'].apply(lambda x: len(x)) # get the word number for each line\n",
    "\n",
    "filtered_df.head()"
   ]
  },
  {
   "cell_type": "markdown",
   "metadata": {},
   "source": [
    "### Average of Words per Line for Each Character"
   ]
  },
  {
   "cell_type": "code",
   "execution_count": 23,
   "metadata": {},
   "outputs": [
    {
     "data": {
      "text/html": [
       "<div>\n",
       "<style scoped>\n",
       "    .dataframe tbody tr th:only-of-type {\n",
       "        vertical-align: middle;\n",
       "    }\n",
       "\n",
       "    .dataframe tbody tr th {\n",
       "        vertical-align: top;\n",
       "    }\n",
       "\n",
       "    .dataframe thead th {\n",
       "        text-align: right;\n",
       "    }\n",
       "</style>\n",
       "<table border=\"1\" class=\"dataframe\">\n",
       "  <thead>\n",
       "    <tr style=\"text-align: right;\">\n",
       "      <th></th>\n",
       "      <th>Speaker</th>\n",
       "      <th>Average Word</th>\n",
       "    </tr>\n",
       "  </thead>\n",
       "  <tbody>\n",
       "    <tr>\n",
       "      <th>0</th>\n",
       "      <td>Michael</td>\n",
       "      <td>5.0</td>\n",
       "    </tr>\n",
       "    <tr>\n",
       "      <th>1</th>\n",
       "      <td>Dwight</td>\n",
       "      <td>5.0</td>\n",
       "    </tr>\n",
       "    <tr>\n",
       "      <th>2</th>\n",
       "      <td>Jim</td>\n",
       "      <td>3.0</td>\n",
       "    </tr>\n",
       "    <tr>\n",
       "      <th>3</th>\n",
       "      <td>Pam</td>\n",
       "      <td>3.0</td>\n",
       "    </tr>\n",
       "    <tr>\n",
       "      <th>4</th>\n",
       "      <td>Andy</td>\n",
       "      <td>5.0</td>\n",
       "    </tr>\n",
       "    <tr>\n",
       "      <th>...</th>\n",
       "      <td>...</td>\n",
       "      <td>...</td>\n",
       "    </tr>\n",
       "    <tr>\n",
       "      <th>584</th>\n",
       "      <td>Woman 1</td>\n",
       "      <td>14.0</td>\n",
       "    </tr>\n",
       "    <tr>\n",
       "      <th>585</th>\n",
       "      <td>Guy buying doll</td>\n",
       "      <td>3.0</td>\n",
       "    </tr>\n",
       "    <tr>\n",
       "      <th>586</th>\n",
       "      <td>HCT Member #1</td>\n",
       "      <td>1.0</td>\n",
       "    </tr>\n",
       "    <tr>\n",
       "      <th>587</th>\n",
       "      <td>Man 1</td>\n",
       "      <td>4.0</td>\n",
       "    </tr>\n",
       "    <tr>\n",
       "      <th>588</th>\n",
       "      <td>Store Employee</td>\n",
       "      <td>4.0</td>\n",
       "    </tr>\n",
       "  </tbody>\n",
       "</table>\n",
       "<p>589 rows × 2 columns</p>\n",
       "</div>"
      ],
      "text/plain": [
       "             Speaker  Average Word\n",
       "0            Michael           5.0\n",
       "1             Dwight           5.0\n",
       "2                Jim           3.0\n",
       "3                Pam           3.0\n",
       "4               Andy           5.0\n",
       "..               ...           ...\n",
       "584          Woman 1          14.0\n",
       "585  Guy buying doll           3.0\n",
       "586    HCT Member #1           1.0\n",
       "587            Man 1           4.0\n",
       "588   Store Employee           4.0\n",
       "\n",
       "[589 rows x 2 columns]"
      ]
     },
     "execution_count": 23,
     "metadata": {},
     "output_type": "execute_result"
    }
   ],
   "source": [
    "characters = filtered_df['speaker'].value_counts().keys().to_list() # Character names in a list\n",
    "\n",
    "def sum_words(person):\n",
    "    # Returns the total number of words spoken by a character\n",
    "    return filtered_df.loc[filtered_df['speaker'] == person, 'word_num'].sum()\n",
    "\n",
    "totwords_eachCharacter = [] # Total number of words spoken by each character\n",
    "for person in characters:\n",
    "    totwords_eachCharacter.append(sum_words(person))\n",
    "\n",
    "totline_eachCharacter = totline.to_list() # Total number of lines for each character in a list\n",
    "\n",
    "#average of words per line for each character:\n",
    "avgword_eachCharacter = [ round(x/totline_eachCharacter[idx]) for idx,x in enumerate(totwords_eachCharacter)] \n",
    "pd.DataFrame({'Speaker' : characters, 'Average Word' : avgword_eachCharacter})"
   ]
  },
  {
   "cell_type": "markdown",
   "metadata": {},
   "source": [
    "### Most Common Word per Character"
   ]
  },
  {
   "cell_type": "code",
   "execution_count": 24,
   "metadata": {},
   "outputs": [],
   "source": [
    "def total_tokens(person):\n",
    "    # Returns the list of all words per character\n",
    "\n",
    "    wrdlist = filtered_df.loc[filtered_df['speaker'] == person, 'token'].tolist() \n",
    "    words = []\n",
    "    for elem in wrdlist:\n",
    "        for w in elem:\n",
    "            words.append(w) \n",
    "    \n",
    "    return words\n",
    "\n",
    "mcdict = {'speaker':[] , 'most_common': []}  # Most common dict\n",
    "for i in characters:\n",
    "    mcdict['speaker'].append(i)\n",
    "    character_words = total_tokens(i)\n",
    "\n",
    "    word_freq = nltk.FreqDist(w for w in character_words)\n",
    "    mostcommont= word_freq.most_common()  ## here you can limit the number of common words\n",
    "    mcdict['most_common'].append(mostcommont)"
   ]
  },
  {
   "cell_type": "markdown",
   "metadata": {},
   "source": [
    "Most Common words and their counts for each character are like below. For example the most common word Michael uses is **don't**, he've said it 917 times. Pam's most common word is **Michael** repeated 333 times, etc."
   ]
  },
  {
   "cell_type": "code",
   "execution_count": 25,
   "metadata": {},
   "outputs": [
    {
     "data": {
      "text/html": [
       "<div>\n",
       "<style scoped>\n",
       "    .dataframe tbody tr th:only-of-type {\n",
       "        vertical-align: middle;\n",
       "    }\n",
       "\n",
       "    .dataframe tbody tr th {\n",
       "        vertical-align: top;\n",
       "    }\n",
       "\n",
       "    .dataframe thead th {\n",
       "        text-align: right;\n",
       "    }\n",
       "</style>\n",
       "<table border=\"1\" class=\"dataframe\">\n",
       "  <thead>\n",
       "    <tr style=\"text-align: right;\">\n",
       "      <th></th>\n",
       "      <th>speaker</th>\n",
       "      <th>most_common</th>\n",
       "    </tr>\n",
       "  </thead>\n",
       "  <tbody>\n",
       "    <tr>\n",
       "      <th>0</th>\n",
       "      <td>Michael</td>\n",
       "      <td>[(dont, 917), (Dwight, 538), (good, 490), (Yea...</td>\n",
       "    </tr>\n",
       "    <tr>\n",
       "      <th>1</th>\n",
       "      <td>Dwight</td>\n",
       "      <td>[(Jim, 419), (Michael, 377), (dont, 259), (Dwi...</td>\n",
       "    </tr>\n",
       "    <tr>\n",
       "      <th>2</th>\n",
       "      <td>Jim</td>\n",
       "      <td>[(Dwight, 368), (Pam, 324), (dont, 315), (Yeah...</td>\n",
       "    </tr>\n",
       "    <tr>\n",
       "      <th>3</th>\n",
       "      <td>Pam</td>\n",
       "      <td>[(Michael, 333), (dont, 308), (Jim, 303), (Yea...</td>\n",
       "    </tr>\n",
       "    <tr>\n",
       "      <th>4</th>\n",
       "      <td>Andy</td>\n",
       "      <td>[(Yeah, 246), (dont, 160), (Hey, 140), (gonna,...</td>\n",
       "    </tr>\n",
       "    <tr>\n",
       "      <th>5</th>\n",
       "      <td>Kevin</td>\n",
       "      <td>[(Yeah, 113), (Michael, 87), (Oscar, 51), (Hey...</td>\n",
       "    </tr>\n",
       "    <tr>\n",
       "      <th>6</th>\n",
       "      <td>Angela</td>\n",
       "      <td>[(Dwight, 111), (dont, 91), (Kevin, 53), (Pam,...</td>\n",
       "    </tr>\n",
       "    <tr>\n",
       "      <th>7</th>\n",
       "      <td>Erin Hannon</td>\n",
       "      <td>[(Andy, 126), (dont, 75), (Yeah, 61), (Hey, 53...</td>\n",
       "    </tr>\n",
       "    <tr>\n",
       "      <th>8</th>\n",
       "      <td>Oscar</td>\n",
       "      <td>[(Michael, 81), (dont, 65), (Kevin, 55), (Ange...</td>\n",
       "    </tr>\n",
       "    <tr>\n",
       "      <th>9</th>\n",
       "      <td>Ryan Howard</td>\n",
       "      <td>[(dont, 92), (Yeah, 81), (Michael, 65), (Hey, ...</td>\n",
       "    </tr>\n",
       "  </tbody>\n",
       "</table>\n",
       "</div>"
      ],
      "text/plain": [
       "       speaker                                        most_common\n",
       "0      Michael  [(dont, 917), (Dwight, 538), (good, 490), (Yea...\n",
       "1       Dwight  [(Jim, 419), (Michael, 377), (dont, 259), (Dwi...\n",
       "2          Jim  [(Dwight, 368), (Pam, 324), (dont, 315), (Yeah...\n",
       "3          Pam  [(Michael, 333), (dont, 308), (Jim, 303), (Yea...\n",
       "4         Andy  [(Yeah, 246), (dont, 160), (Hey, 140), (gonna,...\n",
       "5        Kevin  [(Yeah, 113), (Michael, 87), (Oscar, 51), (Hey...\n",
       "6       Angela  [(Dwight, 111), (dont, 91), (Kevin, 53), (Pam,...\n",
       "7  Erin Hannon  [(Andy, 126), (dont, 75), (Yeah, 61), (Hey, 53...\n",
       "8        Oscar  [(Michael, 81), (dont, 65), (Kevin, 55), (Ange...\n",
       "9  Ryan Howard  [(dont, 92), (Yeah, 81), (Michael, 65), (Hey, ..."
      ]
     },
     "execution_count": 25,
     "metadata": {},
     "output_type": "execute_result"
    }
   ],
   "source": [
    "mcdf = pd.DataFrame.from_dict(mcdict) \n",
    "mcdf.head(10)"
   ]
  },
  {
   "cell_type": "markdown",
   "metadata": {},
   "source": [
    "### Number of Episodes a Character Does Not Have Line"
   ]
  },
  {
   "cell_type": "code",
   "execution_count": 26,
   "metadata": {},
   "outputs": [
    {
     "data": {
      "text/html": [
       "<div>\n",
       "<style scoped>\n",
       "    .dataframe tbody tr th:only-of-type {\n",
       "        vertical-align: middle;\n",
       "    }\n",
       "\n",
       "    .dataframe tbody tr th {\n",
       "        vertical-align: top;\n",
       "    }\n",
       "\n",
       "    .dataframe thead th {\n",
       "        text-align: right;\n",
       "    }\n",
       "</style>\n",
       "<table border=\"1\" class=\"dataframe\">\n",
       "  <thead>\n",
       "    <tr style=\"text-align: right;\">\n",
       "      <th></th>\n",
       "      <th>speaker</th>\n",
       "      <th>num_of_ep</th>\n",
       "    </tr>\n",
       "  </thead>\n",
       "  <tbody>\n",
       "    <tr>\n",
       "      <th>0</th>\n",
       "      <td>Dwight</td>\n",
       "      <td>0</td>\n",
       "    </tr>\n",
       "    <tr>\n",
       "      <th>1</th>\n",
       "      <td>Jim</td>\n",
       "      <td>1</td>\n",
       "    </tr>\n",
       "    <tr>\n",
       "      <th>2</th>\n",
       "      <td>Pam</td>\n",
       "      <td>4</td>\n",
       "    </tr>\n",
       "    <tr>\n",
       "      <th>3</th>\n",
       "      <td>Kevin</td>\n",
       "      <td>6</td>\n",
       "    </tr>\n",
       "    <tr>\n",
       "      <th>4</th>\n",
       "      <td>Angela</td>\n",
       "      <td>12</td>\n",
       "    </tr>\n",
       "    <tr>\n",
       "      <th>5</th>\n",
       "      <td>Stanley</td>\n",
       "      <td>16</td>\n",
       "    </tr>\n",
       "    <tr>\n",
       "      <th>6</th>\n",
       "      <td>Phyllis</td>\n",
       "      <td>17</td>\n",
       "    </tr>\n",
       "    <tr>\n",
       "      <th>7</th>\n",
       "      <td>Oscar</td>\n",
       "      <td>22</td>\n",
       "    </tr>\n",
       "    <tr>\n",
       "      <th>8</th>\n",
       "      <td>Andy</td>\n",
       "      <td>42</td>\n",
       "    </tr>\n",
       "    <tr>\n",
       "      <th>9</th>\n",
       "      <td>Ryan Howard</td>\n",
       "      <td>44</td>\n",
       "    </tr>\n",
       "    <tr>\n",
       "      <th>10</th>\n",
       "      <td>Kelly</td>\n",
       "      <td>44</td>\n",
       "    </tr>\n",
       "    <tr>\n",
       "      <th>11</th>\n",
       "      <td>Meredith</td>\n",
       "      <td>46</td>\n",
       "    </tr>\n",
       "    <tr>\n",
       "      <th>12</th>\n",
       "      <td>Michael</td>\n",
       "      <td>49</td>\n",
       "    </tr>\n",
       "    <tr>\n",
       "      <th>13</th>\n",
       "      <td>Creed</td>\n",
       "      <td>49</td>\n",
       "    </tr>\n",
       "  </tbody>\n",
       "</table>\n",
       "</div>"
      ],
      "text/plain": [
       "        speaker  num_of_ep\n",
       "0        Dwight          0\n",
       "1           Jim          1\n",
       "2           Pam          4\n",
       "3         Kevin          6\n",
       "4        Angela         12\n",
       "5       Stanley         16\n",
       "6       Phyllis         17\n",
       "7         Oscar         22\n",
       "8          Andy         42\n",
       "9   Ryan Howard         44\n",
       "10        Kelly         44\n",
       "11     Meredith         46\n",
       "12      Michael         49\n",
       "13        Creed         49"
      ]
     },
     "execution_count": 26,
     "metadata": {},
     "output_type": "execute_result"
    }
   ],
   "source": [
    "totep_num = df.groupby('season')['episode'].nunique().sum() #Getting total number of episodes\n",
    "# Sort the character appearance to once per scene \n",
    "ep_df = filtered_df.sort_values(['season','episode','scene']).drop_duplicates(['season','episode','speaker'],keep='first')\n",
    "in_ep = ep_df['speaker'].value_counts() # Number of episodes each character has a line\n",
    "no_ep = totep_num - in_ep\n",
    "no_ep = no_ep.reset_index().rename(columns={\"index\": 'speaker', \"speaker\": \"num_of_ep\"})\n",
    "no_ep.head(14)"
   ]
  },
  {
   "cell_type": "markdown",
   "metadata": {},
   "source": [
    "As the table above shows, **Dwight** has appeared in all episodes, **Jim** does not have a line in only one episode, and etc. **Michael** does not have a line in 49 episodes which is compatible with the fact he left the show after season 7."
   ]
  },
  {
   "cell_type": "markdown",
   "metadata": {},
   "source": [
    "### \"That's What She Said\" Joke:\n",
    "There are totally 40 times *That's what she* statement appears in the lines however one of them is not in reference to the joke."
   ]
  },
  {
   "cell_type": "code",
   "execution_count": 27,
   "metadata": {},
   "outputs": [
    {
     "data": {
      "text/plain": [
       "(40, 7)"
      ]
     },
     "execution_count": 27,
     "metadata": {},
     "output_type": "execute_result"
    }
   ],
   "source": [
    "joke = filtered_df['line_text'].str.contains(\"Thats what she\", na=False, case=False)\n",
    "joke_instances = filtered_df[joke]\n",
    "joke_instances.shape"
   ]
  },
  {
   "cell_type": "code",
   "execution_count": 28,
   "metadata": {},
   "outputs": [
    {
     "data": {
      "text/plain": [
       "'People turn to their families all the time when they need help starting out and if my Nanas investment club can help the Michael Scott Paper Company become a reality then Im sure thats what she would have wanted Does want'"
      ]
     },
     "execution_count": 28,
     "metadata": {},
     "output_type": "execute_result"
    }
   ],
   "source": [
    "joke_instances['line_text'][28974]"
   ]
  },
  {
   "cell_type": "markdown",
   "metadata": {},
   "source": [
    "After removing this row, there will be 39 times the joke appears."
   ]
  },
  {
   "cell_type": "code",
   "execution_count": 29,
   "metadata": {},
   "outputs": [
    {
     "data": {
      "text/html": [
       "<div>\n",
       "<style scoped>\n",
       "    .dataframe tbody tr th:only-of-type {\n",
       "        vertical-align: middle;\n",
       "    }\n",
       "\n",
       "    .dataframe tbody tr th {\n",
       "        vertical-align: top;\n",
       "    }\n",
       "\n",
       "    .dataframe thead th {\n",
       "        text-align: right;\n",
       "    }\n",
       "</style>\n",
       "<table border=\"1\" class=\"dataframe\">\n",
       "  <thead>\n",
       "    <tr style=\"text-align: right;\">\n",
       "      <th></th>\n",
       "      <th>season</th>\n",
       "      <th>episode</th>\n",
       "      <th>scene</th>\n",
       "      <th>line_text</th>\n",
       "      <th>speaker</th>\n",
       "      <th>token</th>\n",
       "      <th>word_num</th>\n",
       "    </tr>\n",
       "  </thead>\n",
       "  <tbody>\n",
       "    <tr>\n",
       "      <th>2544</th>\n",
       "      <td>2</td>\n",
       "      <td>2</td>\n",
       "      <td>24</td>\n",
       "      <td>Thats what she said Pam</td>\n",
       "      <td>Michael</td>\n",
       "      <td>[Pam]</td>\n",
       "      <td>1</td>\n",
       "    </tr>\n",
       "    <tr>\n",
       "      <th>2546</th>\n",
       "      <td>2</td>\n",
       "      <td>2</td>\n",
       "      <td>24</td>\n",
       "      <td>Thats what she sai clears throat  Nope but Oka...</td>\n",
       "      <td>Michael</td>\n",
       "      <td>[sai, clears, throat, Nope, suit]</td>\n",
       "      <td>5</td>\n",
       "    </tr>\n",
       "    <tr>\n",
       "      <th>2590</th>\n",
       "      <td>2</td>\n",
       "      <td>2</td>\n",
       "      <td>34</td>\n",
       "      <td>Does that include Thats What She Said</td>\n",
       "      <td>Jim</td>\n",
       "      <td>[include]</td>\n",
       "      <td>1</td>\n",
       "    </tr>\n",
       "    <tr>\n",
       "      <th>2593</th>\n",
       "      <td>2</td>\n",
       "      <td>2</td>\n",
       "      <td>34</td>\n",
       "      <td>THATS WHAT SHE SAID</td>\n",
       "      <td>Michael</td>\n",
       "      <td>[]</td>\n",
       "      <td>0</td>\n",
       "    </tr>\n",
       "    <tr>\n",
       "      <th>5324</th>\n",
       "      <td>2</td>\n",
       "      <td>10</td>\n",
       "      <td>2</td>\n",
       "      <td>A thats what she said and B I wanted it to be ...</td>\n",
       "      <td>Michael</td>\n",
       "      <td>[wanted, impressive, biggest, day, year, deser...</td>\n",
       "      <td>9</td>\n",
       "    </tr>\n",
       "  </tbody>\n",
       "</table>\n",
       "</div>"
      ],
      "text/plain": [
       "      season  episode  scene  \\\n",
       "2544       2        2     24   \n",
       "2546       2        2     24   \n",
       "2590       2        2     34   \n",
       "2593       2        2     34   \n",
       "5324       2       10      2   \n",
       "\n",
       "                                              line_text  speaker  \\\n",
       "2544                            Thats what she said Pam  Michael   \n",
       "2546  Thats what she sai clears throat  Nope but Oka...  Michael   \n",
       "2590              Does that include Thats What She Said      Jim   \n",
       "2593                                THATS WHAT SHE SAID  Michael   \n",
       "5324  A thats what she said and B I wanted it to be ...  Michael   \n",
       "\n",
       "                                                  token  word_num  \n",
       "2544                                              [Pam]         1  \n",
       "2546                  [sai, clears, throat, Nope, suit]         5  \n",
       "2590                                          [include]         1  \n",
       "2593                                                 []         0  \n",
       "5324  [wanted, impressive, biggest, day, year, deser...         9  "
      ]
     },
     "execution_count": 29,
     "metadata": {},
     "output_type": "execute_result"
    }
   ],
   "source": [
    "joke_instances.drop([28974], inplace=True)\n",
    "joke_instances.head(5)"
   ]
  },
  {
   "cell_type": "markdown",
   "metadata": {},
   "source": [
    "### Average Percent of Lines for Each Character per Episode and Seasons"
   ]
  },
  {
   "cell_type": "code",
   "execution_count": 30,
   "metadata": {},
   "outputs": [
    {
     "data": {
      "text/html": [
       "<div>\n",
       "<style scoped>\n",
       "    .dataframe tbody tr th:only-of-type {\n",
       "        vertical-align: middle;\n",
       "    }\n",
       "\n",
       "    .dataframe tbody tr th {\n",
       "        vertical-align: top;\n",
       "    }\n",
       "\n",
       "    .dataframe thead th {\n",
       "        text-align: right;\n",
       "    }\n",
       "</style>\n",
       "<table border=\"1\" class=\"dataframe\">\n",
       "  <thead>\n",
       "    <tr style=\"text-align: right;\">\n",
       "      <th></th>\n",
       "      <th>season</th>\n",
       "      <th>episode</th>\n",
       "      <th>speaker</th>\n",
       "      <th>Average Percent</th>\n",
       "    </tr>\n",
       "  </thead>\n",
       "  <tbody>\n",
       "    <tr>\n",
       "      <th>0</th>\n",
       "      <td>1</td>\n",
       "      <td>1</td>\n",
       "      <td>Michael</td>\n",
       "      <td>0.141758</td>\n",
       "    </tr>\n",
       "    <tr>\n",
       "      <th>1</th>\n",
       "      <td>1</td>\n",
       "      <td>1</td>\n",
       "      <td>Pam</td>\n",
       "      <td>0.070879</td>\n",
       "    </tr>\n",
       "    <tr>\n",
       "      <th>2</th>\n",
       "      <td>1</td>\n",
       "      <td>1</td>\n",
       "      <td>Jim</td>\n",
       "      <td>0.062235</td>\n",
       "    </tr>\n",
       "    <tr>\n",
       "      <th>3</th>\n",
       "      <td>1</td>\n",
       "      <td>1</td>\n",
       "      <td>Dwight</td>\n",
       "      <td>0.050134</td>\n",
       "    </tr>\n",
       "    <tr>\n",
       "      <th>4</th>\n",
       "      <td>1</td>\n",
       "      <td>1</td>\n",
       "      <td>Jan</td>\n",
       "      <td>0.020745</td>\n",
       "    </tr>\n",
       "    <tr>\n",
       "      <th>...</th>\n",
       "      <td>...</td>\n",
       "      <td>...</td>\n",
       "      <td>...</td>\n",
       "      <td>...</td>\n",
       "    </tr>\n",
       "    <tr>\n",
       "      <th>3865</th>\n",
       "      <td>9</td>\n",
       "      <td>23</td>\n",
       "      <td>Photographer</td>\n",
       "      <td>0.001729</td>\n",
       "    </tr>\n",
       "    <tr>\n",
       "      <th>3866</th>\n",
       "      <td>9</td>\n",
       "      <td>23</td>\n",
       "      <td>Usher</td>\n",
       "      <td>0.001729</td>\n",
       "    </tr>\n",
       "    <tr>\n",
       "      <th>3867</th>\n",
       "      <td>9</td>\n",
       "      <td>23</td>\n",
       "      <td>Woman</td>\n",
       "      <td>0.001729</td>\n",
       "    </tr>\n",
       "    <tr>\n",
       "      <th>3868</th>\n",
       "      <td>9</td>\n",
       "      <td>23</td>\n",
       "      <td>Woman 1</td>\n",
       "      <td>0.001729</td>\n",
       "    </tr>\n",
       "    <tr>\n",
       "      <th>3869</th>\n",
       "      <td>9</td>\n",
       "      <td>23</td>\n",
       "      <td>Woman 3</td>\n",
       "      <td>0.001729</td>\n",
       "    </tr>\n",
       "  </tbody>\n",
       "</table>\n",
       "<p>3870 rows × 4 columns</p>\n",
       "</div>"
      ],
      "text/plain": [
       "      season  episode       speaker  Average Percent\n",
       "0          1        1       Michael         0.141758\n",
       "1          1        1           Pam         0.070879\n",
       "2          1        1           Jim         0.062235\n",
       "3          1        1        Dwight         0.050134\n",
       "4          1        1           Jan         0.020745\n",
       "...      ...      ...           ...              ...\n",
       "3865       9       23  Photographer         0.001729\n",
       "3866       9       23         Usher         0.001729\n",
       "3867       9       23         Woman         0.001729\n",
       "3868       9       23       Woman 1         0.001729\n",
       "3869       9       23       Woman 3         0.001729\n",
       "\n",
       "[3870 rows x 4 columns]"
      ]
     },
     "execution_count": 30,
     "metadata": {},
     "output_type": "execute_result"
    }
   ],
   "source": [
    "totlines = filtered_df['speaker'].value_counts().sum()\n",
    "#percentage of lines spoken overall\n",
    "avg_percent = (filtered_df.groupby(['season','episode'])['speaker'].value_counts()/totlines)*100\n",
    "avg_percent = avg_percent.to_frame(name='Average Percent').reset_index()\n",
    "avg_percent"
   ]
  },
  {
   "cell_type": "markdown",
   "metadata": {},
   "source": [
    "### The Most Common Word Used in The Show:\n",
    "It is **don't** with a total count of 3139 times. The top 10 most used words are listed below."
   ]
  },
  {
   "cell_type": "code",
   "execution_count": 31,
   "metadata": {},
   "outputs": [
    {
     "data": {
      "text/plain": [
       "[('dont', 3139),\n",
       " ('Yeah', 2556),\n",
       " ('Michael', 2534),\n",
       " ('Dwight', 2046),\n",
       " ('Hey', 2021),\n",
       " ('Jim', 1856),\n",
       " ('Pam', 1535),\n",
       " ('good', 1525),\n",
       " ('gonna', 1471),\n",
       " ('time', 1194)]"
      ]
     },
     "execution_count": 31,
     "metadata": {},
     "output_type": "execute_result"
    }
   ],
   "source": [
    "alltokens = filtered_df.token.tolist()\n",
    "words = []\n",
    "for elem in alltokens:\n",
    "    for w in elem:\n",
    "        words.append(w)\n",
    "\n",
    "word_freq = nltk.FreqDist(w for w in words)\n",
    "overall_common= word_freq.most_common()\n",
    "overall_common[:10]"
   ]
  },
  {
   "cell_type": "markdown",
   "metadata": {},
   "source": [
    "### Total Number of Scenes per Episode and Season"
   ]
  },
  {
   "cell_type": "code",
   "execution_count": 32,
   "metadata": {},
   "outputs": [
    {
     "data": {
      "text/html": [
       "<div>\n",
       "<style scoped>\n",
       "    .dataframe tbody tr th:only-of-type {\n",
       "        vertical-align: middle;\n",
       "    }\n",
       "\n",
       "    .dataframe tbody tr th {\n",
       "        vertical-align: top;\n",
       "    }\n",
       "\n",
       "    .dataframe thead th {\n",
       "        text-align: right;\n",
       "    }\n",
       "</style>\n",
       "<table border=\"1\" class=\"dataframe\">\n",
       "  <thead>\n",
       "    <tr style=\"text-align: right;\">\n",
       "      <th></th>\n",
       "      <th>season</th>\n",
       "      <th>episode</th>\n",
       "      <th>scene</th>\n",
       "    </tr>\n",
       "  </thead>\n",
       "  <tbody>\n",
       "    <tr>\n",
       "      <th>0</th>\n",
       "      <td>1</td>\n",
       "      <td>1</td>\n",
       "      <td>229</td>\n",
       "    </tr>\n",
       "    <tr>\n",
       "      <th>1</th>\n",
       "      <td>1</td>\n",
       "      <td>2</td>\n",
       "      <td>217</td>\n",
       "    </tr>\n",
       "    <tr>\n",
       "      <th>2</th>\n",
       "      <td>1</td>\n",
       "      <td>3</td>\n",
       "      <td>244</td>\n",
       "    </tr>\n",
       "    <tr>\n",
       "      <th>3</th>\n",
       "      <td>1</td>\n",
       "      <td>4</td>\n",
       "      <td>265</td>\n",
       "    </tr>\n",
       "    <tr>\n",
       "      <th>4</th>\n",
       "      <td>1</td>\n",
       "      <td>5</td>\n",
       "      <td>234</td>\n",
       "    </tr>\n",
       "    <tr>\n",
       "      <th>...</th>\n",
       "      <td>...</td>\n",
       "      <td>...</td>\n",
       "      <td>...</td>\n",
       "    </tr>\n",
       "    <tr>\n",
       "      <th>181</th>\n",
       "      <td>9</td>\n",
       "      <td>19</td>\n",
       "      <td>273</td>\n",
       "    </tr>\n",
       "    <tr>\n",
       "      <th>182</th>\n",
       "      <td>9</td>\n",
       "      <td>20</td>\n",
       "      <td>234</td>\n",
       "    </tr>\n",
       "    <tr>\n",
       "      <th>183</th>\n",
       "      <td>9</td>\n",
       "      <td>21</td>\n",
       "      <td>382</td>\n",
       "    </tr>\n",
       "    <tr>\n",
       "      <th>184</th>\n",
       "      <td>9</td>\n",
       "      <td>22</td>\n",
       "      <td>497</td>\n",
       "    </tr>\n",
       "    <tr>\n",
       "      <th>185</th>\n",
       "      <td>9</td>\n",
       "      <td>23</td>\n",
       "      <td>522</td>\n",
       "    </tr>\n",
       "  </tbody>\n",
       "</table>\n",
       "<p>186 rows × 3 columns</p>\n",
       "</div>"
      ],
      "text/plain": [
       "     season  episode  scene\n",
       "0         1        1    229\n",
       "1         1        2    217\n",
       "2         1        3    244\n",
       "3         1        4    265\n",
       "4         1        5    234\n",
       "..      ...      ...    ...\n",
       "181       9       19    273\n",
       "182       9       20    234\n",
       "183       9       21    382\n",
       "184       9       22    497\n",
       "185       9       23    522\n",
       "\n",
       "[186 rows x 3 columns]"
      ]
     },
     "execution_count": 32,
     "metadata": {},
     "output_type": "execute_result"
    }
   ],
   "source": [
    "totscenes = filtered_df.groupby(['season','episode'])['scene'].count().to_frame()\n",
    "totscenes.reset_index()"
   ]
  },
  {
   "cell_type": "markdown",
   "metadata": {},
   "source": [
    "### The Total Line Contribution Percentage of Each Character:\n",
    "Michael's line contribute around 20% to the overall lines, Dwight's 12.4%, etc."
   ]
  },
  {
   "cell_type": "code",
   "execution_count": 41,
   "metadata": {},
   "outputs": [
    {
     "data": {
      "text/html": [
       "<div>\n",
       "<style scoped>\n",
       "    .dataframe tbody tr th:only-of-type {\n",
       "        vertical-align: middle;\n",
       "    }\n",
       "\n",
       "    .dataframe tbody tr th {\n",
       "        vertical-align: top;\n",
       "    }\n",
       "\n",
       "    .dataframe thead th {\n",
       "        text-align: right;\n",
       "    }\n",
       "</style>\n",
       "<table border=\"1\" class=\"dataframe\">\n",
       "  <thead>\n",
       "    <tr style=\"text-align: right;\">\n",
       "      <th></th>\n",
       "      <th>speaker</th>\n",
       "      <th>line percentage</th>\n",
       "    </tr>\n",
       "  </thead>\n",
       "  <tbody>\n",
       "    <tr>\n",
       "      <th>0</th>\n",
       "      <td>Michael</td>\n",
       "      <td>20.074337</td>\n",
       "    </tr>\n",
       "    <tr>\n",
       "      <th>1</th>\n",
       "      <td>Dwight</td>\n",
       "      <td>12.407295</td>\n",
       "    </tr>\n",
       "    <tr>\n",
       "      <th>2</th>\n",
       "      <td>Jim</td>\n",
       "      <td>11.432276</td>\n",
       "    </tr>\n",
       "    <tr>\n",
       "      <th>3</th>\n",
       "      <td>Pam</td>\n",
       "      <td>9.015472</td>\n",
       "    </tr>\n",
       "    <tr>\n",
       "      <th>4</th>\n",
       "      <td>Andy</td>\n",
       "      <td>6.866626</td>\n",
       "    </tr>\n",
       "    <tr>\n",
       "      <th>...</th>\n",
       "      <td>...</td>\n",
       "      <td>...</td>\n",
       "    </tr>\n",
       "    <tr>\n",
       "      <th>584</th>\n",
       "      <td>Woman 1</td>\n",
       "      <td>0.001729</td>\n",
       "    </tr>\n",
       "    <tr>\n",
       "      <th>585</th>\n",
       "      <td>Guy buying doll</td>\n",
       "      <td>0.001729</td>\n",
       "    </tr>\n",
       "    <tr>\n",
       "      <th>586</th>\n",
       "      <td>HCT Member #1</td>\n",
       "      <td>0.001729</td>\n",
       "    </tr>\n",
       "    <tr>\n",
       "      <th>587</th>\n",
       "      <td>Man 1</td>\n",
       "      <td>0.001729</td>\n",
       "    </tr>\n",
       "    <tr>\n",
       "      <th>588</th>\n",
       "      <td>Store Employee</td>\n",
       "      <td>0.001729</td>\n",
       "    </tr>\n",
       "  </tbody>\n",
       "</table>\n",
       "<p>589 rows × 2 columns</p>\n",
       "</div>"
      ],
      "text/plain": [
       "             speaker  line percentage\n",
       "0            Michael        20.074337\n",
       "1             Dwight        12.407295\n",
       "2                Jim        11.432276\n",
       "3                Pam         9.015472\n",
       "4               Andy         6.866626\n",
       "..               ...              ...\n",
       "584          Woman 1         0.001729\n",
       "585  Guy buying doll         0.001729\n",
       "586    HCT Member #1         0.001729\n",
       "587            Man 1         0.001729\n",
       "588   Store Employee         0.001729\n",
       "\n",
       "[589 rows x 2 columns]"
      ]
     },
     "execution_count": 41,
     "metadata": {},
     "output_type": "execute_result"
    }
   ],
   "source": [
    "tl = ((filtered_df['speaker'].value_counts()/filtered_df['speaker'].value_counts().sum())*100).to_frame()\n",
    "tl.reset_index().rename(columns={'index':'speaker','speaker':'line percentage'})"
   ]
  },
  {
   "cell_type": "code",
   "execution_count": 42,
   "metadata": {},
   "outputs": [
    {
     "data": {
      "text/plain": [
       "array([<matplotlib.axes._subplots.AxesSubplot object at 0x0E7512D0>],\n",
       "      dtype=object)"
      ]
     },
     "execution_count": 42,
     "metadata": {},
     "output_type": "execute_result"
    },
    {
     "data": {
      "image/png": "[encoded data removed]",
      "text/plain": [
       "<Figure size 576x576 with 1 Axes>"
      ]
     },
     "metadata": {},
     "output_type": "display_data"
    }
   ],
   "source": [
    "tl.head(20).plot.pie(subplots=True, figsize=(8,8),autopct='%.2f')"
   ]
  }
 ],
 "metadata": {
  "interpreter": {
   "hash": "0ea6e8431f521f9c66bd4c20550eaacbe6ae1e8992be1f0496df3a109abb4c27"
  },
  "kernelspec": {
   "display_name": "Python 3.7.4 32-bit",
   "language": "python",
   "name": "python3"
  },
  "language_info": {
   "codemirror_mode": {
    "name": "ipython",
    "version": 3
   },
   "file_extension": ".py",
   "mimetype": "text/x-python",
   "name": "python",
   "nbconvert_exporter": "python",
   "pygments_lexer": "ipython3",
   "version": "3.7.4"
  },
  "orig_nbformat": 4
 },
 "nbformat": 4,
 "nbformat_minor": 2
}
